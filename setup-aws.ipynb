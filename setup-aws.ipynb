{
 "cells": [
  {
   "cell_type": "code",
   "execution_count": 5,
   "id": "abd29c42",
   "metadata": {},
   "outputs": [
    {
     "name": "stdout",
     "output_type": "stream",
     "text": [
      "--2021-05-15 20:08:44--  https://s3.amazonaws.com/dl4j-distribution/GoogleNews-vectors-negative300.bin.gz\n",
      "Resolving s3.amazonaws.com (s3.amazonaws.com)... 54.231.97.227\n",
      "Connecting to s3.amazonaws.com (s3.amazonaws.com)|54.231.97.227|:443... connected.\n",
      "HTTP request sent, awaiting response... 200 OK\n",
      "Length: 1647046227 (1.5G) [application/x-gzip]\n",
      "Saving to: ‘GoogleNews-vectors-negative300.bin.gz’\n",
      "\n",
      "GoogleNews-vectors- 100%[===================>]   1.53G  80.4MB/s    in 19s     \n",
      "\n",
      "2021-05-15 20:09:03 (82.2 MB/s) - ‘GoogleNews-vectors-negative300.bin.gz’ saved [1647046227/1647046227]\n",
      "\n"
     ]
    }
   ],
   "source": [
    "!wget -c \"https://s3.amazonaws.com/dl4j-distribution/GoogleNews-vectors-negative300.bin.gz\""
   ]
  },
  {
   "cell_type": "code",
   "execution_count": 10,
   "id": "b3f95939",
   "metadata": {},
   "outputs": [],
   "source": [
    "!gzip -d GoogleNews-vectors-negative300.bin.gz"
   ]
  },
  {
   "cell_type": "code",
   "execution_count": 11,
   "id": "3274da49",
   "metadata": {},
   "outputs": [
    {
     "name": "stdout",
     "output_type": "stream",
     "text": [
      "deleted0\t\t\t    lost+found\t    setup-aws.ipynb\r\n",
      "GoogleNews-vectors-negative300.bin  news_recommend\r\n"
     ]
    }
   ],
   "source": [
    "!ls"
   ]
  },
  {
   "cell_type": "code",
   "execution_count": 12,
   "id": "b5b4f3c3",
   "metadata": {},
   "outputs": [
    {
     "name": "stdout",
     "output_type": "stream",
     "text": [
      "fatal: destination path 'news_recommend' already exists and is not an empty directory.\r\n"
     ]
    }
   ],
   "source": [
    "!git clone https://github.com/Kristin01/news_recommend.git"
   ]
  },
  {
   "cell_type": "code",
   "execution_count": 13,
   "id": "8621c785",
   "metadata": {},
   "outputs": [],
   "source": [
    "!mv GoogleNews-vectors-negative300.bin news_recommend/train/"
   ]
  },
  {
   "cell_type": "code",
   "execution_count": 18,
   "id": "c4491574",
   "metadata": {},
   "outputs": [
    {
     "name": "stdout",
     "output_type": "stream",
     "text": [
      "Requirement already satisfied: click==7.1.2 in /home/ec2-user/anaconda3/envs/pytorch_p36/lib/python3.6/site-packages (from -r requirements.txt (line 1)) (7.1.2)\n",
      "Requirement already satisfied: Flask==1.1.2 in /home/ec2-user/anaconda3/envs/pytorch_p36/lib/python3.6/site-packages (from -r requirements.txt (line 2)) (1.1.2)\n",
      "Collecting gensim==3.6.0\n",
      "  Downloading gensim-3.6.0-cp36-cp36m-manylinux1_x86_64.whl (23.6 MB)\n",
      "\u001b[K     |████████████████████████████████| 23.6 MB 24.9 MB/s eta 0:00:01\n",
      "\u001b[?25hRequirement already satisfied: itsdangerous==1.1.0 in /home/ec2-user/anaconda3/envs/pytorch_p36/lib/python3.6/site-packages (from -r requirements.txt (line 4)) (1.1.0)\n",
      "Requirement already satisfied: Jinja2==2.11.3 in /home/ec2-user/anaconda3/envs/pytorch_p36/lib/python3.6/site-packages (from -r requirements.txt (line 5)) (2.11.3)\n",
      "Requirement already satisfied: MarkupSafe==1.1.1 in /home/ec2-user/anaconda3/envs/pytorch_p36/lib/python3.6/site-packages (from -r requirements.txt (line 6)) (1.1.1)\n",
      "Collecting scipy==1.4.1\n",
      "  Downloading scipy-1.4.1-cp36-cp36m-manylinux1_x86_64.whl (26.1 MB)\n",
      "\u001b[K     |████████████████████████████████| 26.1 MB 53.4 MB/s eta 0:00:01\n",
      "\u001b[?25hRequirement already satisfied: Werkzeug==1.0.1 in /home/ec2-user/anaconda3/envs/pytorch_p36/lib/python3.6/site-packages (from -r requirements.txt (line 8)) (1.0.1)\n",
      "Collecting redis==3.4.1\n",
      "  Downloading redis-3.4.1-py2.py3-none-any.whl (71 kB)\n",
      "\u001b[K     |████████████████████████████████| 71 kB 1.7 MB/s  eta 0:00:01\n",
      "\u001b[?25hCollecting rq==1.2.2\n",
      "  Downloading rq-1.2.2-py2.py3-none-any.whl (58 kB)\n",
      "\u001b[K     |████████████████████████████████| 58 kB 9.5 MB/s  eta 0:00:01\n",
      "\u001b[31mERROR: Could not find a version that satisfies the requirement pandas==1.2.4\u001b[0m\n",
      "\u001b[31mERROR: No matching distribution found for pandas==1.2.4\u001b[0m\n",
      "\u001b[?25h"
     ]
    }
   ],
   "source": [
    "!cd news_recommend && pip install -r requirements.txt"
   ]
  },
  {
   "cell_type": "code",
   "execution_count": null,
   "id": "14bda478",
   "metadata": {},
   "outputs": [],
   "source": []
  }
 ],
 "metadata": {
  "kernelspec": {
   "display_name": "conda_pytorch_p36",
   "language": "python",
   "name": "conda_pytorch_p36"
  },
  "language_info": {
   "codemirror_mode": {
    "name": "ipython",
    "version": 3
   },
   "file_extension": ".py",
   "mimetype": "text/x-python",
   "name": "python",
   "nbconvert_exporter": "python",
   "pygments_lexer": "ipython3",
   "version": "3.6.13"
  }
 },
 "nbformat": 4,
 "nbformat_minor": 5
}
